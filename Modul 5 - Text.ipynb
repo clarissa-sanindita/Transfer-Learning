{
  "cells": [
    {
      "cell_type": "markdown",
      "metadata": {},
      "source": [
        "<h2>Modul 5 Transfer Learning Text Classification</h2>\n",
        "Clarissa Sanindita Reikisyifa - 202010370311232"
      ]
    },
    {
      "cell_type": "markdown",
      "metadata": {},
      "source": [
        "1. Import library yang diperlukan\n",
        "2. Load Dataset\n",
        "3. Melakukan Exploration Data Analyst\n",
        "4. Lakukan Pre-processing dan Data Augmentation yang menurut kamu memberikan dataset yang lebih efisien\n",
        "5. Implementasikan transfer learning dengan menggunakan model **BERT** (Bidirectional Encoder Representations from Transformers) atau lainnya\n",
        "6. Lakukan Fit Model dengan epoch yang anda tentukan\n",
        "7. Evaluate Model dengan menampilkan Plot, Loss, Accuracy serta Classification Report\n",
        "8. Lakukan predict pada data test hasil splitting kemudian lakukan perbandingan antara true label dan predict labelnya\n",
        "9. Demonstrasikan hasil tersebut kepada esisten"
      ]
    },
    {
      "cell_type": "markdown",
      "metadata": {},
      "source": [
        "### Import Library"
      ]
    },
    {
      "cell_type": "code",
      "execution_count": 122,
      "metadata": {
        "id": "ivmlLlSbQyJ2"
      },
      "outputs": [],
      "source": [
        "import pandas as pd\n",
        "import tensorflow as tf\n",
        "import matplotlib.pyplot as plt\n",
        "import numpy as np\n",
        "\n",
        "from transformers import BertTokenizer, TFBertForSequenceClassification\n",
        "from tensorflow.keras.losses import CategoricalCrossentropy\n",
        "from sklearn.model_selection import train_test_split\n",
        "from sklearn.metrics import classification_report\n",
        "from sklearn.preprocessing import LabelEncoder\n",
        "from tensorflow.keras.utils import to_categorical\n",
        "from sklearn.metrics import classification_report\n"
      ]
    },
    {
      "cell_type": "markdown",
      "metadata": {},
      "source": [
        "### Load Dataset"
      ]
    },
    {
      "cell_type": "code",
      "execution_count": 104,
      "metadata": {
        "colab": {
          "base_uri": "https://localhost:8080/",
          "height": 206
        },
        "id": "3fIvcqsNXr_g",
        "outputId": "e590350f-92ac-4065-cd9d-43a054c6ee99"
      },
      "outputs": [
        {
          "data": {
            "text/html": [
              "<div>\n",
              "<style scoped>\n",
              "    .dataframe tbody tr th:only-of-type {\n",
              "        vertical-align: middle;\n",
              "    }\n",
              "\n",
              "    .dataframe tbody tr th {\n",
              "        vertical-align: top;\n",
              "    }\n",
              "\n",
              "    .dataframe thead th {\n",
              "        text-align: right;\n",
              "    }\n",
              "</style>\n",
              "<table border=\"1\" class=\"dataframe\">\n",
              "  <thead>\n",
              "    <tr style=\"text-align: right;\">\n",
              "      <th></th>\n",
              "      <th>sentiments</th>\n",
              "      <th>cleaned_review</th>\n",
              "      <th>cleaned_review_length</th>\n",
              "      <th>review_score</th>\n",
              "    </tr>\n",
              "  </thead>\n",
              "  <tbody>\n",
              "    <tr>\n",
              "      <th>17335</th>\n",
              "      <td>positive</td>\n",
              "      <td>i love this speaker and love can take it anywh...</td>\n",
              "      <td>30</td>\n",
              "      <td>5.0</td>\n",
              "    </tr>\n",
              "    <tr>\n",
              "      <th>17336</th>\n",
              "      <td>positive</td>\n",
              "      <td>i use it in my house easy to connect and loud ...</td>\n",
              "      <td>13</td>\n",
              "      <td>4.0</td>\n",
              "    </tr>\n",
              "    <tr>\n",
              "      <th>17337</th>\n",
              "      <td>positive</td>\n",
              "      <td>the bass is good and the battery is amazing mu...</td>\n",
              "      <td>41</td>\n",
              "      <td>5.0</td>\n",
              "    </tr>\n",
              "    <tr>\n",
              "      <th>17338</th>\n",
              "      <td>positive</td>\n",
              "      <td>love it</td>\n",
              "      <td>2</td>\n",
              "      <td>5.0</td>\n",
              "    </tr>\n",
              "    <tr>\n",
              "      <th>17339</th>\n",
              "      <td>neutral</td>\n",
              "      <td>mono speaker</td>\n",
              "      <td>2</td>\n",
              "      <td>5.0</td>\n",
              "    </tr>\n",
              "  </tbody>\n",
              "</table>\n",
              "</div>"
            ],
            "text/plain": [
              "      sentiments                                     cleaned_review  \\\n",
              "17335   positive  i love this speaker and love can take it anywh...   \n",
              "17336   positive  i use it in my house easy to connect and loud ...   \n",
              "17337   positive  the bass is good and the battery is amazing mu...   \n",
              "17338   positive                                            love it   \n",
              "17339    neutral                                       mono speaker   \n",
              "\n",
              "       cleaned_review_length  review_score  \n",
              "17335                     30           5.0  \n",
              "17336                     13           4.0  \n",
              "17337                     41           5.0  \n",
              "17338                      2           5.0  \n",
              "17339                      2           5.0  "
            ]
          },
          "execution_count": 104,
          "metadata": {},
          "output_type": "execute_result"
        }
      ],
      "source": [
        "url = 'G:/My Drive/Batik Project/GAN/Icha/BatikGAN//cleaned_reviews.csv'\n",
        "df = pd.read_csv(url)\n",
        "df.tail()"
      ]
    },
    {
      "cell_type": "code",
      "execution_count": null,
      "metadata": {},
      "outputs": [],
      "source": [
        "df.info()"
      ]
    },
    {
      "cell_type": "code",
      "execution_count": null,
      "metadata": {},
      "outputs": [],
      "source": [
        "df.describe()"
      ]
    },
    {
      "cell_type": "markdown",
      "metadata": {},
      "source": [
        "### Processing Data"
      ]
    },
    {
      "cell_type": "code",
      "execution_count": 105,
      "metadata": {
        "colab": {
          "base_uri": "https://localhost:8080/"
        },
        "id": "dkljKBHbYOcV",
        "outputId": "8833dbc5-e844-4dd6-e4ad-441564b97eaa"
      },
      "outputs": [
        {
          "data": {
            "text/plain": [
              "sentiments               0\n",
              "cleaned_review           3\n",
              "cleaned_review_length    0\n",
              "review_score             0\n",
              "dtype: int64"
            ]
          },
          "execution_count": 105,
          "metadata": {},
          "output_type": "execute_result"
        }
      ],
      "source": [
        "df.isnull().sum()"
      ]
    },
    {
      "cell_type": "code",
      "execution_count": 106,
      "metadata": {
        "colab": {
          "base_uri": "https://localhost:8080/",
          "height": 423
        },
        "id": "xXO0KDfyYa4f",
        "outputId": "8d7c7628-49a8-4089-d037-0af12cb9a97f"
      },
      "outputs": [
        {
          "data": {
            "text/html": [
              "<div>\n",
              "<style scoped>\n",
              "    .dataframe tbody tr th:only-of-type {\n",
              "        vertical-align: middle;\n",
              "    }\n",
              "\n",
              "    .dataframe tbody tr th {\n",
              "        vertical-align: top;\n",
              "    }\n",
              "\n",
              "    .dataframe thead th {\n",
              "        text-align: right;\n",
              "    }\n",
              "</style>\n",
              "<table border=\"1\" class=\"dataframe\">\n",
              "  <thead>\n",
              "    <tr style=\"text-align: right;\">\n",
              "      <th></th>\n",
              "      <th>sentiments</th>\n",
              "      <th>cleaned_review</th>\n",
              "      <th>cleaned_review_length</th>\n",
              "      <th>review_score</th>\n",
              "    </tr>\n",
              "  </thead>\n",
              "  <tbody>\n",
              "    <tr>\n",
              "      <th>0</th>\n",
              "      <td>positive</td>\n",
              "      <td>i wish would have gotten one earlier love it a...</td>\n",
              "      <td>19</td>\n",
              "      <td>5.0</td>\n",
              "    </tr>\n",
              "    <tr>\n",
              "      <th>1</th>\n",
              "      <td>neutral</td>\n",
              "      <td>i ve learned this lesson again open the packag...</td>\n",
              "      <td>88</td>\n",
              "      <td>1.0</td>\n",
              "    </tr>\n",
              "    <tr>\n",
              "      <th>2</th>\n",
              "      <td>neutral</td>\n",
              "      <td>it is so slow and lags find better option</td>\n",
              "      <td>9</td>\n",
              "      <td>2.0</td>\n",
              "    </tr>\n",
              "    <tr>\n",
              "      <th>3</th>\n",
              "      <td>neutral</td>\n",
              "      <td>roller ball stopped working within months of m...</td>\n",
              "      <td>12</td>\n",
              "      <td>1.0</td>\n",
              "    </tr>\n",
              "    <tr>\n",
              "      <th>4</th>\n",
              "      <td>neutral</td>\n",
              "      <td>i like the color and size but it few days out ...</td>\n",
              "      <td>21</td>\n",
              "      <td>1.0</td>\n",
              "    </tr>\n",
              "    <tr>\n",
              "      <th>...</th>\n",
              "      <td>...</td>\n",
              "      <td>...</td>\n",
              "      <td>...</td>\n",
              "      <td>...</td>\n",
              "    </tr>\n",
              "    <tr>\n",
              "      <th>17335</th>\n",
              "      <td>positive</td>\n",
              "      <td>i love this speaker and love can take it anywh...</td>\n",
              "      <td>30</td>\n",
              "      <td>5.0</td>\n",
              "    </tr>\n",
              "    <tr>\n",
              "      <th>17336</th>\n",
              "      <td>positive</td>\n",
              "      <td>i use it in my house easy to connect and loud ...</td>\n",
              "      <td>13</td>\n",
              "      <td>4.0</td>\n",
              "    </tr>\n",
              "    <tr>\n",
              "      <th>17337</th>\n",
              "      <td>positive</td>\n",
              "      <td>the bass is good and the battery is amazing mu...</td>\n",
              "      <td>41</td>\n",
              "      <td>5.0</td>\n",
              "    </tr>\n",
              "    <tr>\n",
              "      <th>17338</th>\n",
              "      <td>positive</td>\n",
              "      <td>love it</td>\n",
              "      <td>2</td>\n",
              "      <td>5.0</td>\n",
              "    </tr>\n",
              "    <tr>\n",
              "      <th>17339</th>\n",
              "      <td>neutral</td>\n",
              "      <td>mono speaker</td>\n",
              "      <td>2</td>\n",
              "      <td>5.0</td>\n",
              "    </tr>\n",
              "  </tbody>\n",
              "</table>\n",
              "<p>17337 rows × 4 columns</p>\n",
              "</div>"
            ],
            "text/plain": [
              "      sentiments                                     cleaned_review  \\\n",
              "0       positive  i wish would have gotten one earlier love it a...   \n",
              "1        neutral  i ve learned this lesson again open the packag...   \n",
              "2        neutral          it is so slow and lags find better option   \n",
              "3        neutral  roller ball stopped working within months of m...   \n",
              "4        neutral  i like the color and size but it few days out ...   \n",
              "...          ...                                                ...   \n",
              "17335   positive  i love this speaker and love can take it anywh...   \n",
              "17336   positive  i use it in my house easy to connect and loud ...   \n",
              "17337   positive  the bass is good and the battery is amazing mu...   \n",
              "17338   positive                                            love it   \n",
              "17339    neutral                                       mono speaker   \n",
              "\n",
              "       cleaned_review_length  review_score  \n",
              "0                         19           5.0  \n",
              "1                         88           1.0  \n",
              "2                          9           2.0  \n",
              "3                         12           1.0  \n",
              "4                         21           1.0  \n",
              "...                      ...           ...  \n",
              "17335                     30           5.0  \n",
              "17336                     13           4.0  \n",
              "17337                     41           5.0  \n",
              "17338                      2           5.0  \n",
              "17339                      2           5.0  \n",
              "\n",
              "[17337 rows x 4 columns]"
            ]
          },
          "execution_count": 106,
          "metadata": {},
          "output_type": "execute_result"
        }
      ],
      "source": [
        "df.dropna(subset=['cleaned_review'], inplace=True)\n",
        "df"
      ]
    },
    {
      "cell_type": "code",
      "execution_count": 107,
      "metadata": {
        "colab": {
          "base_uri": "https://localhost:8080/"
        },
        "id": "mSit7oKFYS2k",
        "outputId": "c6de620e-b264-4ac8-83ce-d353c6462d9c"
      },
      "outputs": [
        {
          "data": {
            "text/plain": [
              "1347"
            ]
          },
          "execution_count": 107,
          "metadata": {},
          "output_type": "execute_result"
        }
      ],
      "source": [
        "df.duplicated().sum()"
      ]
    },
    {
      "cell_type": "code",
      "execution_count": 108,
      "metadata": {
        "id": "XWuJeop9Ykg4"
      },
      "outputs": [],
      "source": [
        "df = df.drop_duplicates()"
      ]
    },
    {
      "cell_type": "code",
      "execution_count": 109,
      "metadata": {
        "id": "LPTuwDeHI1Ka"
      },
      "outputs": [
        {
          "name": "stderr",
          "output_type": "stream",
          "text": [
            "C:\\Users\\riset\\AppData\\Local\\Temp\\ipykernel_19764\\1672668950.py:3: SettingWithCopyWarning: \n",
            "A value is trying to be set on a copy of a slice from a DataFrame.\n",
            "Try using .loc[row_indexer,col_indexer] = value instead\n",
            "\n",
            "See the caveats in the documentation: https://pandas.pydata.org/pandas-docs/stable/user_guide/indexing.html#returning-a-view-versus-a-copy\n",
            "  df['sentiments'] = df['sentiments'].map(sentiment_labels)\n"
          ]
        }
      ],
      "source": [
        "# Define sentiment labels mapping\n",
        "sentiment_labels = {'positive': 2, 'neutral': 1, 'negative': 0}\n",
        "df['sentiments'] = df['sentiments'].map(sentiment_labels)"
      ]
    },
    {
      "cell_type": "markdown",
      "metadata": {},
      "source": [
        "### Spliting Feature & Label"
      ]
    },
    {
      "cell_type": "code",
      "execution_count": 110,
      "metadata": {
        "id": "gRCPE5DOIJhk"
      },
      "outputs": [],
      "source": [
        "# Membaca dataset (pastikan df sudah terdefinisi)\n",
        "X = df['cleaned_review']\n",
        "y = df['sentiments']"
      ]
    },
    {
      "cell_type": "markdown",
      "metadata": {},
      "source": [
        "### Spliting Train, Val, dan Test"
      ]
    },
    {
      "cell_type": "code",
      "execution_count": 111,
      "metadata": {
        "id": "VL6_btr2I7vN"
      },
      "outputs": [],
      "source": [
        "X_train, X_test, y_train, y_test = train_test_split( X, y, test_size=0.2, random_state=42)"
      ]
    },
    {
      "cell_type": "code",
      "execution_count": 112,
      "metadata": {
        "id": "HhQOgMm_I-e-"
      },
      "outputs": [],
      "source": [
        "tokenizer = BertTokenizer.from_pretrained('bert-base-uncased')"
      ]
    },
    {
      "cell_type": "markdown",
      "metadata": {},
      "source": [
        "### Normalisasi Data"
      ]
    },
    {
      "cell_type": "code",
      "execution_count": 113,
      "metadata": {
        "id": "FAvAf-Q9K3N5"
      },
      "outputs": [],
      "source": [
        "# Function to encode the text using BERT tokenizer\n",
        "def encode_reviews(reviews, max_length=100):\n",
        "    return tokenizer.batch_encode_plus(\n",
        "        reviews.tolist(),\n",
        "        max_length=max_length,\n",
        "        padding='max_length',\n",
        "        truncation=True,\n",
        "        return_attention_mask=True,\n",
        "        return_tensors='tf'\n",
        "    )"
      ]
    },
    {
      "cell_type": "code",
      "execution_count": 114,
      "metadata": {},
      "outputs": [],
      "source": [
        "# Encoding the reviews\n",
        "encoded_X_train = encode_reviews(X_train)\n",
        "encoded_X_test = encode_reviews(X_test)"
      ]
    },
    {
      "cell_type": "code",
      "execution_count": 115,
      "metadata": {},
      "outputs": [],
      "source": [
        "# Convert labels to one-hot encoding\n",
        "y_train_one_hot = to_categorical(y_train, num_classes=3)\n",
        "y_test_one_hot = to_categorical(y_test, num_classes=3)\n"
      ]
    },
    {
      "cell_type": "markdown",
      "metadata": {},
      "source": [
        "### Model"
      ]
    },
    {
      "cell_type": "code",
      "execution_count": 116,
      "metadata": {
        "colab": {
          "base_uri": "https://localhost:8080/"
        },
        "id": "HXY5S5JUY8Jk",
        "outputId": "9ce378d2-c0d0-4c9c-e054-5e920093e506"
      },
      "outputs": [
        {
          "name": "stderr",
          "output_type": "stream",
          "text": [
            "All PyTorch model weights were used when initializing TFBertForSequenceClassification.\n",
            "\n",
            "Some weights or buffers of the TF 2.0 model TFBertForSequenceClassification were not initialized from the PyTorch model and are newly initialized: ['classifier.weight', 'classifier.bias']\n",
            "You should probably TRAIN this model on a down-stream task to be able to use it for predictions and inference.\n"
          ]
        }
      ],
      "source": [
        "model = TFBertForSequenceClassification.from_pretrained('bert-base-uncased', num_labels=3)"
      ]
    },
    {
      "cell_type": "code",
      "execution_count": 117,
      "metadata": {},
      "outputs": [],
      "source": [
        "optimizer = tf.keras.optimizers.Adam(learning_rate=5e-5)\n",
        "loss = CategoricalCrossentropy(from_logits=True)\n",
        "model.compile(optimizer=optimizer, loss=loss, metrics=['accuracy'])\n"
      ]
    },
    {
      "cell_type": "markdown",
      "metadata": {},
      "source": [
        "### Training Model"
      ]
    },
    {
      "cell_type": "code",
      "execution_count": 118,
      "metadata": {},
      "outputs": [
        {
          "name": "stdout",
          "output_type": "stream",
          "text": [
            "Epoch 1/10\n",
            "360/360 [==============================] - 51s 114ms/step - loss: 0.4330 - accuracy: 0.8171 - val_loss: 0.3083 - val_accuracy: 0.8648\n",
            "Epoch 2/10\n",
            "360/360 [==============================] - 40s 111ms/step - loss: 0.2182 - accuracy: 0.9154 - val_loss: 0.2231 - val_accuracy: 0.9094\n",
            "Epoch 3/10\n",
            "360/360 [==============================] - 40s 110ms/step - loss: 0.1232 - accuracy: 0.9547 - val_loss: 0.2635 - val_accuracy: 0.9031\n",
            "Epoch 4/10\n",
            "360/360 [==============================] - 40s 111ms/step - loss: 0.0844 - accuracy: 0.9708 - val_loss: 0.2397 - val_accuracy: 0.9219\n",
            "Epoch 5/10\n",
            "360/360 [==============================] - 40s 111ms/step - loss: 0.0597 - accuracy: 0.9798 - val_loss: 0.2829 - val_accuracy: 0.9156\n",
            "Epoch 6/10\n",
            "360/360 [==============================] - 40s 111ms/step - loss: 0.0459 - accuracy: 0.9831 - val_loss: 0.2804 - val_accuracy: 0.9187\n",
            "Epoch 7/10\n",
            "360/360 [==============================] - 40s 111ms/step - loss: 0.0286 - accuracy: 0.9914 - val_loss: 0.3703 - val_accuracy: 0.9133\n",
            "Epoch 8/10\n",
            "360/360 [==============================] - 40s 111ms/step - loss: 0.0351 - accuracy: 0.9881 - val_loss: 0.3418 - val_accuracy: 0.9148\n",
            "Epoch 9/10\n",
            "360/360 [==============================] - 40s 111ms/step - loss: 0.0290 - accuracy: 0.9905 - val_loss: 0.3596 - val_accuracy: 0.9109\n",
            "Epoch 10/10\n",
            "360/360 [==============================] - 40s 111ms/step - loss: 0.0234 - accuracy: 0.9916 - val_loss: 0.4247 - val_accuracy: 0.9141\n"
          ]
        }
      ],
      "source": [
        "history = model.fit(\n",
        "    {'input_ids': encoded_X_train['input_ids'], 'attention_mask': encoded_X_train['attention_mask']},\n",
        "    y_train_one_hot,\n",
        "    validation_split=0.1,\n",
        "    epochs=10,  # You can adjust the number of epochs\n",
        "    batch_size=32  # And the batch size\n",
        ")"
      ]
    },
    {
      "cell_type": "markdown",
      "metadata": {},
      "source": [
        "### Evaluasi Model"
      ]
    },
    {
      "cell_type": "code",
      "execution_count": 119,
      "metadata": {},
      "outputs": [
        {
          "name": "stdout",
          "output_type": "stream",
          "text": [
            "100/100 [==============================] - 6s 39ms/step - loss: 0.3992 - accuracy: 0.9209\n",
            "Test Accuracy: 92.09%\n"
          ]
        }
      ],
      "source": [
        "test_loss, test_accuracy = model.evaluate(\n",
        "    {'input_ids': encoded_X_test['input_ids'], 'attention_mask': encoded_X_test['attention_mask']},\n",
        "    y_test_one_hot\n",
        ")\n",
        "\n",
        "print(f\"Test Accuracy: {test_accuracy * 100:.2f}%\")"
      ]
    },
    {
      "cell_type": "code",
      "execution_count": 120,
      "metadata": {},
      "outputs": [
        {
          "data": {
            "image/png": "[encoded data removed]",
            "text/plain": [
              "<Figure size 1200x400 with 2 Axes>"
            ]
          },
          "metadata": {},
          "output_type": "display_data"
        }
      ],
      "source": [
        "def plot_training_history(history):\n",
        "    plt.figure(figsize=(12, 4))\n",
        "\n",
        "    plt.subplot(1, 2, 1)\n",
        "    plt.plot(history.history['loss'], label='Loss')\n",
        "    if 'val_loss' in history.history:\n",
        "        plt.plot(history.history['val_loss'], label='Validation Loss')\n",
        "    plt.title('Training Loss')\n",
        "    plt.xlabel('Epochs')\n",
        "    plt.ylabel('Loss')\n",
        "    plt.legend()\n",
        "\n",
        "    plt.subplot(1, 2, 2)\n",
        "    plt.plot(history.history['accuracy'], label='Accuracy')\n",
        "    if 'val_accuracy' in history.history:\n",
        "        plt.plot(history.history['val_accuracy'], label='Validation Accuracy')\n",
        "    plt.title('Training Accuracy')\n",
        "    plt.xlabel('Epochs')\n",
        "    plt.ylabel('Accuracy')\n",
        "    plt.legend()\n",
        "\n",
        "    plt.show()\n",
        "\n",
        "plot_training_history(history)\n"
      ]
    },
    {
      "cell_type": "markdown",
      "metadata": {},
      "source": [
        "### Clasification Report"
      ]
    },
    {
      "cell_type": "code",
      "execution_count": 123,
      "metadata": {},
      "outputs": [
        {
          "name": "stdout",
          "output_type": "stream",
          "text": [
            "100/100 [==============================] - 4s 37ms/step\n",
            "              precision    recall  f1-score   support\n",
            "\n",
            "    negative       0.88      0.71      0.78       266\n",
            "     neutral       0.89      0.90      0.90      1146\n",
            "    positive       0.94      0.97      0.96      1786\n",
            "\n",
            "    accuracy                           0.92      3198\n",
            "   macro avg       0.90      0.86      0.88      3198\n",
            "weighted avg       0.92      0.92      0.92      3198\n",
            "\n"
          ]
        }
      ],
      "source": [
        "test_pred = model.predict({'input_ids': encoded_X_test['input_ids'], 'attention_mask': encoded_X_test['attention_mask']})\n",
        "test_pred_labels = np.argmax(test_pred.logits, axis=1)\n",
        "\n",
        "report = classification_report(y_test, test_pred_labels, target_names=['negative', 'neutral', 'positive'])\n",
        "print(report)"
      ]
    },
    {
      "cell_type": "markdown",
      "metadata": {},
      "source": [
        "### Perbandingan antara true label dan predict label"
      ]
    },
    {
      "cell_type": "code",
      "execution_count": 124,
      "metadata": {},
      "outputs": [
        {
          "name": "stdout",
          "output_type": "stream",
          "text": [
            "      Actual Label Predicted Label\n",
            "17328     positive        positive\n",
            "15981      neutral        positive\n",
            "150        neutral         neutral\n",
            "1696      positive        positive\n",
            "8455       neutral         neutral\n",
            "5447       neutral         neutral\n",
            "1043       neutral         neutral\n",
            "123       positive        positive\n",
            "88         neutral         neutral\n",
            "5663      positive        positive\n",
            "9250      positive        positive\n",
            "6024      positive        positive\n",
            "9322      positive        positive\n",
            "5050      positive        positive\n",
            "14130      neutral         neutral\n",
            "13908      neutral         neutral\n",
            "13049     positive        positive\n",
            "10917      neutral         neutral\n",
            "14240     positive        positive\n",
            "9905       neutral         neutral\n"
          ]
        }
      ],
      "source": [
        "comparison = pd.DataFrame({'Actual Label': y_test, 'Predicted Label': test_pred_labels})\n",
        "comparison = comparison.replace({0: 'negative', 1: 'neutral', 2: 'positive'})\n",
        "\n",
        "print(comparison.head(20))"
      ]
    }
  ],
  "metadata": {
    "colab": {
      "provenance": []
    },
    "kernelspec": {
      "display_name": "Python 3.8.1 32-bit",
      "language": "python",
      "name": "python3"
    },
    "language_info": {
      "codemirror_mode": {
        "name": "ipython",
        "version": 3
      },
      "file_extension": ".py",
      "mimetype": "text/x-python",
      "name": "python",
      "nbconvert_exporter": "python",
      "pygments_lexer": "ipython3",
      "version": "3.8.1"
    },
    "vscode": {
      "interpreter": {
        "hash": "a3e5ba5d8344d0f3148a2cd4e311bc76d94317e63ee34805504832e17454f970"
      }
    }
  },
  "nbformat": 4,
  "nbformat_minor": 0
}
